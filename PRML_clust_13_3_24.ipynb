{
  "nbformat": 4,
  "nbformat_minor": 0,
  "metadata": {
    "colab": {
      "provenance": [],
      "authorship_tag": "ABX9TyNiNN+VNiIoG780gYQNybZb",
      "include_colab_link": true
    },
    "kernelspec": {
      "name": "python3",
      "display_name": "Python 3"
    },
    "language_info": {
      "name": "python"
    }
  },
  "cells": [
    {
      "cell_type": "markdown",
      "metadata": {
        "id": "view-in-github",
        "colab_type": "text"
      },
      "source": [
        "<a href=\"https://colab.research.google.com/github/raulbenitez/PRML_exploratory_analysis/blob/main/PRML_clust_13_3_24.ipynb\" target=\"_parent\"><img src=\"https://colab.research.google.com/assets/colab-badge.svg\" alt=\"Open In Colab\"/></a>"
      ]
    },
    {
      "cell_type": "code",
      "execution_count": null,
      "metadata": {
        "id": "oB7MdCjO7RzV"
      },
      "outputs": [],
      "source": []
    },
    {
      "cell_type": "markdown",
      "source": [
        "# PRML session: Clustering algorithms and evaluation\n",
        "\n",
        "\n",
        "1. Choose a dataset with at least 3 numerical features from either [Kaggle](https://www.kaggle.com/) or the [UCI database](https://archive.ics.uci.edu/datasets). Load the data in a pandas dataframe. Make sure the database has a class label (we will use it to evaluate the clustering result)\n",
        "\n",
        "2. Manage potential missing observations using an imputation strategy.\n",
        "\n",
        "3. Choose a subset of the features, excluding non-numerical and visualize them with a [scatter plot matrix](https://seaborn.pydata.org/generated/seaborn.pairplot.html)\n",
        "\n",
        "4. Apply k-means, agglomerative clustering and Gaussian Mixture models selecting a reasonable number of clusters.\n",
        "\n",
        "5. Visualize the clustering results.\n",
        "\n",
        "6. Evaluate clustering performance using the following measures:\n",
        "\n",
        "- Adjusted Rand Index: Similarity between clustering and class label, https://scikit-learn.org/stable/modules/generated/sklearn.metrics.adjusted_rand_score.html\n",
        "\n",
        "- Davies-Bouldin score: Cluster separation measure, https://scikit-learn.org/stable/modules/generated/sklearn.metrics.davies_bouldin_score.html\n",
        "\n",
        "- Use the Silhouette score to select the optimal number of clusters, https://scikit-learn.org/stable/auto_examples/cluster/plot_kmeans_silhouette_analysis.html#sphx-glr-auto-examples-cluster-plot-kmeans-silhouette-analysis-py\n"
      ],
      "metadata": {
        "id": "RENfmqMJ7SKo"
      }
    },
    {
      "cell_type": "code",
      "source": [],
      "metadata": {
        "id": "RG2npokv8K3H"
      },
      "execution_count": null,
      "outputs": []
    }
  ]
}