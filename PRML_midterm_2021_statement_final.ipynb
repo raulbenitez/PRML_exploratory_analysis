{
  "nbformat": 4,
  "nbformat_minor": 0,
  "metadata": {
    "colab": {
      "name": "PRML_midterm_2021_statement_final.ipynb",
      "provenance": [],
      "authorship_tag": "ABX9TyNjfYnlz3Coy1yrx4NhFll/",
      "include_colab_link": true
    },
    "kernelspec": {
      "name": "python3",
      "display_name": "Python 3"
    },
    "language_info": {
      "name": "python"
    }
  },
  "cells": [
    {
      "cell_type": "markdown",
      "metadata": {
        "id": "view-in-github",
        "colab_type": "text"
      },
      "source": [
        "<a href=\"https://colab.research.google.com/github/raulbenitez/PRML_exploratory_analysis/blob/main/PRML_midterm_2021_statement_final.ipynb\" target=\"_parent\"><img src=\"https://colab.research.google.com/assets/colab-badge.svg\" alt=\"Open In Colab\"/></a>"
      ]
    },
    {
      "cell_type": "markdown",
      "metadata": {
        "id": "8AR3T0tKO9Iu"
      },
      "source": [
        "# Pattern Recognition and Machine Learning\n",
        "Partial exam, April 16, 2021\n",
        "\n",
        "\n",
        "The questions and exercises are described in this Python notebook. Please include the necessary text and code cells to answer the questions and upload the interactive Python notebook to the corresponding task in the ATENEA digital campus."
      ]
    },
    {
      "cell_type": "markdown",
      "metadata": {
        "id": "9GldIVtDPhUm"
      },
      "source": [
        "## **Question 1** (2 points):\n",
        "\n",
        "Imagine we have a complex data base with elements belonging to two classes distributed in 3 bubbles for each classe with a certain degree of overlaping between them in a two dimensional space.\n",
        "\n",
        "Describe a couple of strategies to find a Neural Network model to solve this classification problem"
      ]
    },
    {
      "cell_type": "markdown",
      "metadata": {
        "id": "wv5MAso0PlNZ"
      },
      "source": [
        "Answer here"
      ]
    },
    {
      "cell_type": "markdown",
      "metadata": {
        "id": "c-nFyglMPnE-"
      },
      "source": [
        "## **Question 2** (2 points): \n",
        "\n",
        "Describe what is a parsimony index and how can we use it in the context of data clustering. "
      ]
    },
    {
      "cell_type": "markdown",
      "metadata": {
        "id": "PpsE5lWt8sMf"
      },
      "source": [
        "Answer here"
      ]
    },
    {
      "cell_type": "markdown",
      "metadata": {
        "id": "IA-_85Y8Ptwg"
      },
      "source": [
        "## Exercise 1 (6 points): \n",
        "\n",
        "\n",
        "The exercise will be developed using one of the following  10 datasets from the sklearn/seaborn sample datasets: \n",
        "\n",
        "- sklearn datasets:\n",
        "https://scikit-learn.org/stable/datasets/toy_dataset.html\n",
        "\n",
        "1. Boston house-prices dataset\n",
        "2. Diabetes dataset\n",
        "3. Physical excercise linnerud dataset\n",
        "4. Wine dataset\n",
        "5. Breast cancer wisconsin dataset\n",
        "\n",
        "- seaborn datasets: \n",
        "https://seaborn.pydata.org/generated/seaborn.load_dataset.html\n",
        "\n",
        "6. Car crashes\n",
        "7. Diamonds\n",
        "8. Cars mpg \n",
        "9. Penguins\n",
        "10. Titanic\n",
        "\n",
        "Each student will be randomly assigned one of the 10 previous databases by executing the code in the following code cell. \n",
        "\n",
        "The input parameter are the first three digits of your ID number (NIF, NIE or passport). \n"
      ]
    },
    {
      "cell_type": "code",
      "metadata": {
        "colab": {
          "base_uri": "https://localhost:8080/"
        },
        "id": "PJV628oCQKdM",
        "outputId": "fad200e4-c3e1-438c-a36f-9f42d29ce09d"
      },
      "source": [
        "import numpy as np\n",
        "\n",
        "input = 437 # put here the three fist digits of your ID number\n",
        "np.random.seed(input)\n",
        "ind = np.random.randint(11)\n",
        "print('You should work with database number {}'.format(ind))"
      ],
      "execution_count": null,
      "outputs": [
        {
          "output_type": "stream",
          "text": [
            "You should work with database number 6\n"
          ],
          "name": "stdout"
        }
      ]
    },
    {
      "cell_type": "markdown",
      "metadata": {
        "id": "ou1_aZklly9t"
      },
      "source": [
        "Answer the following questions by adding as many text and code cells as needed. "
      ]
    },
    {
      "cell_type": "markdown",
      "metadata": {
        "id": "LP__qLApw-8L"
      },
      "source": [
        "### a) **Data handling** (2 points): \n",
        "Load the dataset to a pandas dataframe and remove observations with missing data or NaN. Provide a description of the dataset combining written text, data handling with pandas and graphical representation of the data. You should cover aspects such as the presence of missing data, dimension of the dataset, types of variables, etc. "
      ]
    },
    {
      "cell_type": "markdown",
      "metadata": {
        "id": "UAq6WKP879EB"
      },
      "source": [
        "### b) **Dimensionality reduction** (2 points):\n",
        "\n",
        "Apply a PCA to the numerical features of your dataset. How many principal components are required to account for 90% of the data variability? Report the eigenvalues, eigenvectors and the projection of the data to the PCA space of reduced dimensionality. "
      ]
    },
    {
      "cell_type": "markdown",
      "metadata": {
        "id": "HnQ0HZ9H8efx"
      },
      "source": [
        "### c) **Clustering or Classification** (2 points): \n",
        "\n",
        "Choose **one** of the following (clustering or classification) taking into account the nature of your data"
      ]
    },
    {
      "cell_type": "markdown",
      "metadata": {
        "id": "p8tQYErMwq7D"
      },
      "source": [
        "#### **Clustering**: \n",
        "Cluster the data (numerical features) using k-means, agglomerative or a Gaussian mixture model. Justify the number of clusters selected, visualize the clustering and briefly comment the results. \n"
      ]
    },
    {
      "cell_type": "markdown",
      "metadata": {
        "id": "QTnTW7Ocws8x"
      },
      "source": [
        "#### **Probabilistic classifier**: \n",
        "Identify a variable in the dataset that can be used as class label for supervised classification. Randomly split the data in training and test subsets. Train a probabilistic classifier (LDA, QDA, Gaussian Naive Bayes) using the training subset. Report some basic performance evaluation measures using the test subset. "
      ]
    }
  ]
}