{
 "cells": [
  {
   "cell_type": "markdown",
   "metadata": {},
   "source": [
    "# Shannon's entropy of different languages:"
   ]
  },
  {
   "cell_type": "code",
   "execution_count": 1,
   "metadata": {},
   "outputs": [
    {
     "name": "stdout",
     "output_type": "stream",
     "text": [
      "Maximum Entropy = 4.700439718141092 bits/symbol\n",
      "Entropy of French = 3.970797302622851 bits/symbol, Fraction = 0.8447714555933511\n",
      "Entropy of German = 4.022100220671352 bits/symbol, Fraction = 0.8556859489439413\n",
      "Entropy of Spanish = 3.987878465272538 bits/symbol, Fraction = 0.8484054055371751\n",
      "Entropy of Portuguese = 3.872535590965736 bits/symbol, Fraction = 0.8238666642229013\n",
      "Entropy of Esperanto = 3.9768958830679573 bits/symbol, Fraction = 0.8460689045153251\n",
      "Entropy of Italian = 3.9539311889057 bits/symbol, Fraction = 0.8411832564612449\n",
      "Entropy of Turkish = 3.92605047098605 bits/symbol, Fraction = 0.8352517437536049\n",
      "Entropy of Swedish = 4.037324846696533 bits/symbol, Fraction = 0.8589249280476244\n",
      "Entropy of Polish = 4.023325181376858 bits/symbol, Fraction = 0.8559465544997957\n",
      "Entropy of Dutch = 4.092331615460147 bits/symbol, Fraction = 0.8706274010208056\n",
      "Entropy of Danish = 4.014514823169373 bits/symbol, Fraction = 0.8540721855607617\n",
      "Entropy of Icelandic = 3.7250117532361275 bits/symbol, Fraction = 0.7924815499408804\n",
      "Entropy of Finnish = 3.8595145663153145 bits/symbol, Fraction = 0.8210964926153032\n",
      "Entropy of Czech = 3.5581203534697434 bits/symbol, Fraction = 0.7569760632685856\n"
     ]
    }
   ],
   "source": [
    "import pandas as pd \n",
    "import numpy as np\n",
    "eps = 1e-16\n",
    "\n",
    "df = pd.read_csv('letter_frequency.csv', index_col=0,header=0, sep=';')\n",
    "df1 = pd.DataFrame(columns=['Language', 'Entropy'])\n",
    "\n",
    "letters1 = list()\n",
    "for i, j in df.iterrows():\n",
    "    letters1.append(i)\n",
    "    \n",
    "letters = list(map(chr, range(97, 123)))\n",
    "nsymbols = len(letters)\n",
    "prob_equal = (1/nsymbols)*np.ones(nsymbols)\n",
    "H_max = -np.sum(prob_equal * np.log2(prob_equal), axis=0)\n",
    "print('Maximum Entropy = {} bits/symbol'.format(H_max))\n",
    "\n",
    "\n",
    "languages = df.columns\n",
    "for klang in languages: \n",
    "    prob = []\n",
    "    for kletter in letters:\n",
    "        #print(kletter)\n",
    "        s = df.loc[kletter,klang]\n",
    "        s = s.replace('%','')\n",
    "        s = s.replace('*','')\n",
    "        #print(s)\n",
    "        pi = float(s)/100\n",
    "        #print(pi)\n",
    "        prob.append(pi+eps)\n",
    "    H_lang = -np.sum(prob * np.log2(prob), axis=0)\n",
    "    print('Entropy of {} = {} bits/symbol, Fraction = {}'.format(klang,H_lang,H_lang/H_max))\n"
   ]
  }
 ],
 "metadata": {
  "kernelspec": {
   "display_name": "Python 3",
   "language": "python",
   "name": "python3"
  },
  "language_info": {
   "codemirror_mode": {
    "name": "ipython",
    "version": 3
   },
   "file_extension": ".py",
   "mimetype": "text/x-python",
   "name": "python",
   "nbconvert_exporter": "python",
   "pygments_lexer": "ipython3",
   "version": "3.7.3"
  }
 },
 "nbformat": 4,
 "nbformat_minor": 2
}
