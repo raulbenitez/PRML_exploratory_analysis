{
  "nbformat": 4,
  "nbformat_minor": 0,
  "metadata": {
    "colab": {
      "name": "Entropy coin toss.ipynb",
      "provenance": []
    },
    "kernelspec": {
      "name": "python3",
      "display_name": "Python 3"
    }
  },
  "cells": [
    {
      "cell_type": "code",
      "metadata": {
        "colab": {
          "base_uri": "https://localhost:8080/"
        },
        "id": "3Js7WAy3LyIk",
        "outputId": "23e7e512-d769-45ff-d938-2dd7acaaa671"
      },
      "source": [
        "import numpy as np\n",
        "\n",
        "p=0.5 \n",
        "Hfair = -p*np.log2(p)-(1-p)*np.log2(1-p)\n",
        "print('Entropy of a fair coin = {} bits/symbol'.format(Hfair))"
      ],
      "execution_count": 11,
      "outputs": [
        {
          "output_type": "stream",
          "text": [
            "Entropy of a fair coin = 1.0 bits/symbol\n"
          ],
          "name": "stdout"
        }
      ]
    },
    {
      "cell_type": "code",
      "metadata": {
        "colab": {
          "base_uri": "https://localhost:8080/"
        },
        "id": "-Q4eYYZ5L2Xs",
        "outputId": "1c2bb3c8-af38-40a3-ab6c-a3032b101a5b"
      },
      "source": [
        "\n",
        "p=0.1 \n",
        "Hunfair = -p*np.log2(p)-(1-p)*np.log2(1-p)\n",
        "print('Entropy of an unfair coin = {} bits/symbol'.format(Hunfair))"
      ],
      "execution_count": 13,
      "outputs": [
        {
          "output_type": "stream",
          "text": [
            "Entropy of an unfair coin = 0.4689955935892812 bits/symbol\n"
          ],
          "name": "stdout"
        }
      ]
    },
    {
      "cell_type": "code",
      "metadata": {
        "id": "c6Y7zeauMOSW"
      },
      "source": [
        ""
      ],
      "execution_count": null,
      "outputs": []
    }
  ]
}